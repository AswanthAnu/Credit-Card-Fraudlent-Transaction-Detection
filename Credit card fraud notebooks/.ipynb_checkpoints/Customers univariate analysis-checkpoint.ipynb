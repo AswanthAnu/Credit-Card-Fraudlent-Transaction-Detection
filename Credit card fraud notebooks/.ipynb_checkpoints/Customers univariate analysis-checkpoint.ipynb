{
 "cells": [
  {
   "cell_type": "code",
   "execution_count": 1,
   "id": "d3418341",
   "metadata": {},
   "outputs": [],
   "source": [
    "import pandas as pd\n",
    "import numpy as np\n",
    "import seaborn as sns\n",
    "import warnings\n",
    "\n",
    "warnings.filterwarnings('ignore')"
   ]
  },
  {
   "cell_type": "code",
   "execution_count": 2,
   "id": "9a242dfe",
   "metadata": {},
   "outputs": [],
   "source": [
    "url = 'C:/Users/aswan/Data analysis/Fintech project/Credit card fraud datasets/customer.csv'"
   ]
  },
  {
   "cell_type": "code",
   "execution_count": 3,
   "id": "a2c6cc53",
   "metadata": {},
   "outputs": [],
   "source": [
    "df = pd.read_csv(url)"
   ]
  },
  {
   "cell_type": "code",
   "execution_count": 4,
   "id": "94267b2b",
   "metadata": {},
   "outputs": [
    {
     "data": {
      "text/html": [
       "<div>\n",
       "<style scoped>\n",
       "    .dataframe tbody tr th:only-of-type {\n",
       "        vertical-align: middle;\n",
       "    }\n",
       "\n",
       "    .dataframe tbody tr th {\n",
       "        vertical-align: top;\n",
       "    }\n",
       "\n",
       "    .dataframe thead th {\n",
       "        text-align: right;\n",
       "    }\n",
       "</style>\n",
       "<table border=\"1\" class=\"dataframe\">\n",
       "  <thead>\n",
       "    <tr style=\"text-align: right;\">\n",
       "      <th></th>\n",
       "      <th>CUSTOMER_ID</th>\n",
       "      <th>x_customer_id</th>\n",
       "      <th>y_customer_id</th>\n",
       "      <th>mean_amount</th>\n",
       "      <th>std_amount</th>\n",
       "      <th>mean_nb_tx_per_day</th>\n",
       "      <th>available_terminals</th>\n",
       "      <th>nb_terminals</th>\n",
       "    </tr>\n",
       "  </thead>\n",
       "  <tbody>\n",
       "    <tr>\n",
       "      <th>0</th>\n",
       "      <td>0</td>\n",
       "      <td>54.881350</td>\n",
       "      <td>71.518937</td>\n",
       "      <td>62.262521</td>\n",
       "      <td>31.131260</td>\n",
       "      <td>2.179533</td>\n",
       "      <td>[29, 87, 144, 241, 330, 858, 996, 1028, 1067, ...</td>\n",
       "      <td>22</td>\n",
       "    </tr>\n",
       "    <tr>\n",
       "      <th>1</th>\n",
       "      <td>1</td>\n",
       "      <td>42.365480</td>\n",
       "      <td>64.589411</td>\n",
       "      <td>46.570785</td>\n",
       "      <td>23.285393</td>\n",
       "      <td>3.567092</td>\n",
       "      <td>[5, 160, 242, 378, 431, 475, 571, 762, 876, 93...</td>\n",
       "      <td>20</td>\n",
       "    </tr>\n",
       "    <tr>\n",
       "      <th>2</th>\n",
       "      <td>2</td>\n",
       "      <td>96.366276</td>\n",
       "      <td>38.344152</td>\n",
       "      <td>80.213879</td>\n",
       "      <td>40.106939</td>\n",
       "      <td>2.115580</td>\n",
       "      <td>[316, 406, 447, 523, 968, 1200, 1318, 1365, 16...</td>\n",
       "      <td>10</td>\n",
       "    </tr>\n",
       "    <tr>\n",
       "      <th>3</th>\n",
       "      <td>3</td>\n",
       "      <td>56.804456</td>\n",
       "      <td>92.559664</td>\n",
       "      <td>11.748426</td>\n",
       "      <td>5.874213</td>\n",
       "      <td>0.348517</td>\n",
       "      <td>[65, 94, 113, 364, 401, 433, 485, 651, 672, 77...</td>\n",
       "      <td>17</td>\n",
       "    </tr>\n",
       "    <tr>\n",
       "      <th>4</th>\n",
       "      <td>4</td>\n",
       "      <td>2.021840</td>\n",
       "      <td>83.261985</td>\n",
       "      <td>78.924891</td>\n",
       "      <td>39.462446</td>\n",
       "      <td>3.480049</td>\n",
       "      <td>[372, 614, 774, 1362, 1446, 1564, 1637, 1939]</td>\n",
       "      <td>8</td>\n",
       "    </tr>\n",
       "  </tbody>\n",
       "</table>\n",
       "</div>"
      ],
      "text/plain": [
       "   CUSTOMER_ID  x_customer_id  y_customer_id  mean_amount  std_amount  \\\n",
       "0            0      54.881350      71.518937    62.262521   31.131260   \n",
       "1            1      42.365480      64.589411    46.570785   23.285393   \n",
       "2            2      96.366276      38.344152    80.213879   40.106939   \n",
       "3            3      56.804456      92.559664    11.748426    5.874213   \n",
       "4            4       2.021840      83.261985    78.924891   39.462446   \n",
       "\n",
       "   mean_nb_tx_per_day                                available_terminals  \\\n",
       "0            2.179533  [29, 87, 144, 241, 330, 858, 996, 1028, 1067, ...   \n",
       "1            3.567092  [5, 160, 242, 378, 431, 475, 571, 762, 876, 93...   \n",
       "2            2.115580  [316, 406, 447, 523, 968, 1200, 1318, 1365, 16...   \n",
       "3            0.348517  [65, 94, 113, 364, 401, 433, 485, 651, 672, 77...   \n",
       "4            3.480049      [372, 614, 774, 1362, 1446, 1564, 1637, 1939]   \n",
       "\n",
       "   nb_terminals  \n",
       "0            22  \n",
       "1            20  \n",
       "2            10  \n",
       "3            17  \n",
       "4             8  "
      ]
     },
     "execution_count": 4,
     "metadata": {},
     "output_type": "execute_result"
    }
   ],
   "source": [
    "df.head()"
   ]
  },
  {
   "cell_type": "code",
   "execution_count": 7,
   "id": "60571ba9",
   "metadata": {},
   "outputs": [],
   "source": [
    "df.set_index('CUSTOMER_ID', inplace=True)"
   ]
  },
  {
   "cell_type": "code",
   "execution_count": 8,
   "id": "d8bf1d57",
   "metadata": {},
   "outputs": [
    {
     "name": "stdout",
     "output_type": "stream",
     "text": [
      "<class 'pandas.core.frame.DataFrame'>\n",
      "Int64Index: 1000 entries, 0 to 999\n",
      "Data columns (total 7 columns):\n",
      " #   Column               Non-Null Count  Dtype  \n",
      "---  ------               --------------  -----  \n",
      " 0   x_customer_id        1000 non-null   float64\n",
      " 1   y_customer_id        1000 non-null   float64\n",
      " 2   mean_amount          1000 non-null   float64\n",
      " 3   std_amount           1000 non-null   float64\n",
      " 4   mean_nb_tx_per_day   1000 non-null   float64\n",
      " 5   available_terminals  1000 non-null   object \n",
      " 6   nb_terminals         1000 non-null   int64  \n",
      "dtypes: float64(5), int64(1), object(1)\n",
      "memory usage: 62.5+ KB\n"
     ]
    }
   ],
   "source": [
    "df.info()"
   ]
  },
  {
   "cell_type": "code",
   "execution_count": 9,
   "id": "a7dab665",
   "metadata": {},
   "outputs": [
    {
     "data": {
      "text/html": [
       "<div>\n",
       "<style scoped>\n",
       "    .dataframe tbody tr th:only-of-type {\n",
       "        vertical-align: middle;\n",
       "    }\n",
       "\n",
       "    .dataframe tbody tr th {\n",
       "        vertical-align: top;\n",
       "    }\n",
       "\n",
       "    .dataframe thead th {\n",
       "        text-align: right;\n",
       "    }\n",
       "</style>\n",
       "<table border=\"1\" class=\"dataframe\">\n",
       "  <thead>\n",
       "    <tr style=\"text-align: right;\">\n",
       "      <th></th>\n",
       "      <th>x_customer_id</th>\n",
       "      <th>y_customer_id</th>\n",
       "      <th>mean_amount</th>\n",
       "      <th>std_amount</th>\n",
       "      <th>mean_nb_tx_per_day</th>\n",
       "      <th>nb_terminals</th>\n",
       "    </tr>\n",
       "  </thead>\n",
       "  <tbody>\n",
       "    <tr>\n",
       "      <th>count</th>\n",
       "      <td>1000.000000</td>\n",
       "      <td>1000.000000</td>\n",
       "      <td>1000.000000</td>\n",
       "      <td>1000.000000</td>\n",
       "      <td>1000.000000</td>\n",
       "      <td>1000.000000</td>\n",
       "    </tr>\n",
       "    <tr>\n",
       "      <th>mean</th>\n",
       "      <td>51.318204</td>\n",
       "      <td>50.397990</td>\n",
       "      <td>51.550697</td>\n",
       "      <td>25.775348</td>\n",
       "      <td>1.956983</td>\n",
       "      <td>15.117000</td>\n",
       "    </tr>\n",
       "    <tr>\n",
       "      <th>std</th>\n",
       "      <td>28.893939</td>\n",
       "      <td>28.785699</td>\n",
       "      <td>28.025746</td>\n",
       "      <td>14.012873</td>\n",
       "      <td>1.165512</td>\n",
       "      <td>4.255987</td>\n",
       "    </tr>\n",
       "    <tr>\n",
       "      <th>min</th>\n",
       "      <td>0.007245</td>\n",
       "      <td>0.036734</td>\n",
       "      <td>5.063101</td>\n",
       "      <td>2.531550</td>\n",
       "      <td>0.000295</td>\n",
       "      <td>2.000000</td>\n",
       "    </tr>\n",
       "    <tr>\n",
       "      <th>25%</th>\n",
       "      <td>27.099437</td>\n",
       "      <td>26.737835</td>\n",
       "      <td>27.596718</td>\n",
       "      <td>13.798359</td>\n",
       "      <td>0.931062</td>\n",
       "      <td>12.000000</td>\n",
       "    </tr>\n",
       "    <tr>\n",
       "      <th>50%</th>\n",
       "      <td>50.601090</td>\n",
       "      <td>49.109879</td>\n",
       "      <td>51.596026</td>\n",
       "      <td>25.798013</td>\n",
       "      <td>1.886714</td>\n",
       "      <td>15.000000</td>\n",
       "    </tr>\n",
       "    <tr>\n",
       "      <th>75%</th>\n",
       "      <td>76.422770</td>\n",
       "      <td>76.377724</td>\n",
       "      <td>75.304416</td>\n",
       "      <td>37.652208</td>\n",
       "      <td>2.994755</td>\n",
       "      <td>18.000000</td>\n",
       "    </tr>\n",
       "    <tr>\n",
       "      <th>max</th>\n",
       "      <td>99.994897</td>\n",
       "      <td>99.996402</td>\n",
       "      <td>99.981815</td>\n",
       "      <td>49.990907</td>\n",
       "      <td>3.999725</td>\n",
       "      <td>28.000000</td>\n",
       "    </tr>\n",
       "  </tbody>\n",
       "</table>\n",
       "</div>"
      ],
      "text/plain": [
       "       x_customer_id  y_customer_id  mean_amount   std_amount  \\\n",
       "count    1000.000000    1000.000000  1000.000000  1000.000000   \n",
       "mean       51.318204      50.397990    51.550697    25.775348   \n",
       "std        28.893939      28.785699    28.025746    14.012873   \n",
       "min         0.007245       0.036734     5.063101     2.531550   \n",
       "25%        27.099437      26.737835    27.596718    13.798359   \n",
       "50%        50.601090      49.109879    51.596026    25.798013   \n",
       "75%        76.422770      76.377724    75.304416    37.652208   \n",
       "max        99.994897      99.996402    99.981815    49.990907   \n",
       "\n",
       "       mean_nb_tx_per_day  nb_terminals  \n",
       "count         1000.000000   1000.000000  \n",
       "mean             1.956983     15.117000  \n",
       "std              1.165512      4.255987  \n",
       "min              0.000295      2.000000  \n",
       "25%              0.931062     12.000000  \n",
       "50%              1.886714     15.000000  \n",
       "75%              2.994755     18.000000  \n",
       "max              3.999725     28.000000  "
      ]
     },
     "execution_count": 9,
     "metadata": {},
     "output_type": "execute_result"
    }
   ],
   "source": [
    "df.describe()"
   ]
  },
  {
   "cell_type": "code",
   "execution_count": 10,
   "id": "47ffba1b",
   "metadata": {},
   "outputs": [
    {
     "data": {
      "text/plain": [
       "x_customer_id          0\n",
       "y_customer_id          0\n",
       "mean_amount            0\n",
       "std_amount             0\n",
       "mean_nb_tx_per_day     0\n",
       "available_terminals    0\n",
       "nb_terminals           0\n",
       "dtype: int64"
      ]
     },
     "execution_count": 10,
     "metadata": {},
     "output_type": "execute_result"
    }
   ],
   "source": [
    "df.isnull().sum()"
   ]
  },
  {
   "cell_type": "code",
   "execution_count": 12,
   "id": "075a2563",
   "metadata": {},
   "outputs": [
    {
     "data": {
      "text/plain": [
       "0"
      ]
     },
     "execution_count": 12,
     "metadata": {},
     "output_type": "execute_result"
    }
   ],
   "source": [
    "df.duplicated().sum()"
   ]
  },
  {
   "cell_type": "code",
   "execution_count": 13,
   "id": "d5cfed06",
   "metadata": {},
   "outputs": [
    {
     "data": {
      "text/html": [
       "<div>\n",
       "<style scoped>\n",
       "    .dataframe tbody tr th:only-of-type {\n",
       "        vertical-align: middle;\n",
       "    }\n",
       "\n",
       "    .dataframe tbody tr th {\n",
       "        vertical-align: top;\n",
       "    }\n",
       "\n",
       "    .dataframe thead th {\n",
       "        text-align: right;\n",
       "    }\n",
       "</style>\n",
       "<table border=\"1\" class=\"dataframe\">\n",
       "  <thead>\n",
       "    <tr style=\"text-align: right;\">\n",
       "      <th></th>\n",
       "      <th>x_customer_id</th>\n",
       "      <th>y_customer_id</th>\n",
       "      <th>mean_amount</th>\n",
       "      <th>std_amount</th>\n",
       "      <th>mean_nb_tx_per_day</th>\n",
       "      <th>nb_terminals</th>\n",
       "    </tr>\n",
       "  </thead>\n",
       "  <tbody>\n",
       "    <tr>\n",
       "      <th>x_customer_id</th>\n",
       "      <td>1.000000</td>\n",
       "      <td>0.028458</td>\n",
       "      <td>-0.012328</td>\n",
       "      <td>-0.012328</td>\n",
       "      <td>-0.064236</td>\n",
       "      <td>-0.032064</td>\n",
       "    </tr>\n",
       "    <tr>\n",
       "      <th>y_customer_id</th>\n",
       "      <td>0.028458</td>\n",
       "      <td>1.000000</td>\n",
       "      <td>0.003894</td>\n",
       "      <td>0.003894</td>\n",
       "      <td>0.002019</td>\n",
       "      <td>0.109816</td>\n",
       "    </tr>\n",
       "    <tr>\n",
       "      <th>mean_amount</th>\n",
       "      <td>-0.012328</td>\n",
       "      <td>0.003894</td>\n",
       "      <td>1.000000</td>\n",
       "      <td>1.000000</td>\n",
       "      <td>0.013099</td>\n",
       "      <td>-0.034329</td>\n",
       "    </tr>\n",
       "    <tr>\n",
       "      <th>std_amount</th>\n",
       "      <td>-0.012328</td>\n",
       "      <td>0.003894</td>\n",
       "      <td>1.000000</td>\n",
       "      <td>1.000000</td>\n",
       "      <td>0.013099</td>\n",
       "      <td>-0.034329</td>\n",
       "    </tr>\n",
       "    <tr>\n",
       "      <th>mean_nb_tx_per_day</th>\n",
       "      <td>-0.064236</td>\n",
       "      <td>0.002019</td>\n",
       "      <td>0.013099</td>\n",
       "      <td>0.013099</td>\n",
       "      <td>1.000000</td>\n",
       "      <td>0.067778</td>\n",
       "    </tr>\n",
       "    <tr>\n",
       "      <th>nb_terminals</th>\n",
       "      <td>-0.032064</td>\n",
       "      <td>0.109816</td>\n",
       "      <td>-0.034329</td>\n",
       "      <td>-0.034329</td>\n",
       "      <td>0.067778</td>\n",
       "      <td>1.000000</td>\n",
       "    </tr>\n",
       "  </tbody>\n",
       "</table>\n",
       "</div>"
      ],
      "text/plain": [
       "                    x_customer_id  y_customer_id  mean_amount  std_amount  \\\n",
       "x_customer_id            1.000000       0.028458    -0.012328   -0.012328   \n",
       "y_customer_id            0.028458       1.000000     0.003894    0.003894   \n",
       "mean_amount             -0.012328       0.003894     1.000000    1.000000   \n",
       "std_amount              -0.012328       0.003894     1.000000    1.000000   \n",
       "mean_nb_tx_per_day      -0.064236       0.002019     0.013099    0.013099   \n",
       "nb_terminals            -0.032064       0.109816    -0.034329   -0.034329   \n",
       "\n",
       "                    mean_nb_tx_per_day  nb_terminals  \n",
       "x_customer_id                -0.064236     -0.032064  \n",
       "y_customer_id                 0.002019      0.109816  \n",
       "mean_amount                   0.013099     -0.034329  \n",
       "std_amount                    0.013099     -0.034329  \n",
       "mean_nb_tx_per_day            1.000000      0.067778  \n",
       "nb_terminals                  0.067778      1.000000  "
      ]
     },
     "execution_count": 13,
     "metadata": {},
     "output_type": "execute_result"
    }
   ],
   "source": [
    "df.corr()"
   ]
  },
  {
   "cell_type": "markdown",
   "id": "2dc818ca",
   "metadata": {},
   "source": [
    "### Initial Insight"
   ]
  },
  {
   "cell_type": "markdown",
   "id": "f25088d4",
   "metadata": {},
   "source": [
    "- Total number of rows are 1000 and columns are 7. There is only 1000 customers transaction details is here.\n",
    "- The datatypes are 6 float64, 1 int64 and 1 object.\n",
    "- There is no null value and duplicate values.\n",
    "- 'mean_amount' and 'std_amount' has a strong positive correlation, others are not considerable."
   ]
  },
  {
   "cell_type": "markdown",
   "id": "11a291d2",
   "metadata": {},
   "source": [
    "### Univariate Analysis"
   ]
  },
  {
   "cell_type": "code",
   "execution_count": 16,
   "id": "2991d496",
   "metadata": {},
   "outputs": [
    {
     "data": {
      "text/plain": [
       "<AxesSubplot: xlabel='mean_amount', ylabel='Count'>"
      ]
     },
     "execution_count": 16,
     "metadata": {},
     "output_type": "execute_result"
    },
    {
     "data": {
      "image/png": "[encoded data removed]",
      "text/plain": [
       "<Figure size 640x480 with 1 Axes>"
      ]
     },
     "metadata": {},
     "output_type": "display_data"
    }
   ],
   "source": [
    "# Distribution of mean_amount\n",
    "sns.histplot(x=df.mean_amount)"
   ]
  },
  {
   "cell_type": "code",
   "execution_count": null,
   "id": "60d9ceca",
   "metadata": {},
   "outputs": [],
   "source": []
  }
 ],
 "metadata": {
  "kernelspec": {
   "display_name": "bobbykernal",
   "language": "python",
   "name": "bobbykernal"
  },
  "language_info": {
   "codemirror_mode": {
    "name": "ipython",
    "version": 3
   },
   "file_extension": ".py",
   "mimetype": "text/x-python",
   "name": "python",
   "nbconvert_exporter": "python",
   "pygments_lexer": "ipython3",
   "version": "3.10.6"
  }
 },
 "nbformat": 4,
 "nbformat_minor": 5
}
