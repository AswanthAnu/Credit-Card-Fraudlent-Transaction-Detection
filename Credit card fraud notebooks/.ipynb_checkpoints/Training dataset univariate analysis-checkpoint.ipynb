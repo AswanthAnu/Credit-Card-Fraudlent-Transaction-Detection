{
 "cells": [
  {
   "cell_type": "code",
   "execution_count": 2,
   "id": "b92de602",
   "metadata": {},
   "outputs": [],
   "source": [
    "import pandas as pd\n",
    "import numpy as np\n",
    "import seaborn as sns\n",
    "import warnings\n",
    "\n",
    "warnings.filterwarnings('ignore')"
   ]
  },
  {
   "cell_type": "code",
   "execution_count": 11,
   "id": "c89dceda",
   "metadata": {},
   "outputs": [],
   "source": [
    "url = 'C:/Users/aswan/Data analysis/Fintech project/Credit card fraud datasets/train.csv'"
   ]
  },
  {
   "cell_type": "code",
   "execution_count": 14,
   "id": "8e80989e",
   "metadata": {},
   "outputs": [],
   "source": [
    "df = pd.read_csv(url, index_col='TRANSACTION_ID')"
   ]
  },
  {
   "cell_type": "code",
   "execution_count": 15,
   "id": "e437fc71",
   "metadata": {},
   "outputs": [
    {
     "data": {
      "text/html": [
       "<div>\n",
       "<style scoped>\n",
       "    .dataframe tbody tr th:only-of-type {\n",
       "        vertical-align: middle;\n",
       "    }\n",
       "\n",
       "    .dataframe tbody tr th {\n",
       "        vertical-align: top;\n",
       "    }\n",
       "\n",
       "    .dataframe thead th {\n",
       "        text-align: right;\n",
       "    }\n",
       "</style>\n",
       "<table border=\"1\" class=\"dataframe\">\n",
       "  <thead>\n",
       "    <tr style=\"text-align: right;\">\n",
       "      <th></th>\n",
       "      <th>TX_DATETIME</th>\n",
       "      <th>CUSTOMER_ID</th>\n",
       "      <th>TERMINAL_ID</th>\n",
       "      <th>TX_AMOUNT</th>\n",
       "      <th>TX_FRAUD</th>\n",
       "    </tr>\n",
       "    <tr>\n",
       "      <th>TRANSACTION_ID</th>\n",
       "      <th></th>\n",
       "      <th></th>\n",
       "      <th></th>\n",
       "      <th></th>\n",
       "      <th></th>\n",
       "    </tr>\n",
       "  </thead>\n",
       "  <tbody>\n",
       "    <tr>\n",
       "      <th>131181</th>\n",
       "      <td>2021-09-07 13:00:23</td>\n",
       "      <td>531</td>\n",
       "      <td>1107</td>\n",
       "      <td>53.20</td>\n",
       "      <td>0</td>\n",
       "    </tr>\n",
       "    <tr>\n",
       "      <th>254406</th>\n",
       "      <td>2021-11-11 01:19:24</td>\n",
       "      <td>159</td>\n",
       "      <td>470</td>\n",
       "      <td>61.08</td>\n",
       "      <td>0</td>\n",
       "    </tr>\n",
       "    <tr>\n",
       "      <th>242596</th>\n",
       "      <td>2021-11-04 17:42:18</td>\n",
       "      <td>131</td>\n",
       "      <td>1695</td>\n",
       "      <td>12.06</td>\n",
       "      <td>0</td>\n",
       "    </tr>\n",
       "    <tr>\n",
       "      <th>297878</th>\n",
       "      <td>2021-12-03 11:13:31</td>\n",
       "      <td>567</td>\n",
       "      <td>732</td>\n",
       "      <td>24.11</td>\n",
       "      <td>0</td>\n",
       "    </tr>\n",
       "    <tr>\n",
       "      <th>180440</th>\n",
       "      <td>2021-10-03 07:33:02</td>\n",
       "      <td>444</td>\n",
       "      <td>656</td>\n",
       "      <td>13.63</td>\n",
       "      <td>0</td>\n",
       "    </tr>\n",
       "  </tbody>\n",
       "</table>\n",
       "</div>"
      ],
      "text/plain": [
       "                        TX_DATETIME  CUSTOMER_ID  TERMINAL_ID  TX_AMOUNT  \\\n",
       "TRANSACTION_ID                                                             \n",
       "131181          2021-09-07 13:00:23          531         1107      53.20   \n",
       "254406          2021-11-11 01:19:24          159          470      61.08   \n",
       "242596          2021-11-04 17:42:18          131         1695      12.06   \n",
       "297878          2021-12-03 11:13:31          567          732      24.11   \n",
       "180440          2021-10-03 07:33:02          444          656      13.63   \n",
       "\n",
       "                TX_FRAUD  \n",
       "TRANSACTION_ID            \n",
       "131181                 0  \n",
       "254406                 0  \n",
       "242596                 0  \n",
       "297878                 0  \n",
       "180440                 0  "
      ]
     },
     "execution_count": 15,
     "metadata": {},
     "output_type": "execute_result"
    }
   ],
   "source": [
    "df.sample(5)"
   ]
  },
  {
   "cell_type": "code",
   "execution_count": 16,
   "id": "778e629a",
   "metadata": {},
   "outputs": [
    {
     "data": {
      "text/plain": [
       "(291231, 5)"
      ]
     },
     "execution_count": 16,
     "metadata": {},
     "output_type": "execute_result"
    }
   ],
   "source": [
    "df.shape"
   ]
  },
  {
   "cell_type": "code",
   "execution_count": 17,
   "id": "738400aa",
   "metadata": {},
   "outputs": [
    {
     "name": "stdout",
     "output_type": "stream",
     "text": [
      "<class 'pandas.core.frame.DataFrame'>\n",
      "Int64Index: 291231 entries, 59383 to 350613\n",
      "Data columns (total 5 columns):\n",
      " #   Column       Non-Null Count   Dtype  \n",
      "---  ------       --------------   -----  \n",
      " 0   TX_DATETIME  291231 non-null  object \n",
      " 1   CUSTOMER_ID  291231 non-null  int64  \n",
      " 2   TERMINAL_ID  291231 non-null  int64  \n",
      " 3   TX_AMOUNT    291231 non-null  float64\n",
      " 4   TX_FRAUD     291231 non-null  int64  \n",
      "dtypes: float64(1), int64(3), object(1)\n",
      "memory usage: 13.3+ MB\n"
     ]
    }
   ],
   "source": [
    "df.info()"
   ]
  },
  {
   "cell_type": "code",
   "execution_count": 18,
   "id": "02cfc0ca",
   "metadata": {},
   "outputs": [
    {
     "data": {
      "text/html": [
       "<div>\n",
       "<style scoped>\n",
       "    .dataframe tbody tr th:only-of-type {\n",
       "        vertical-align: middle;\n",
       "    }\n",
       "\n",
       "    .dataframe tbody tr th {\n",
       "        vertical-align: top;\n",
       "    }\n",
       "\n",
       "    .dataframe thead th {\n",
       "        text-align: right;\n",
       "    }\n",
       "</style>\n",
       "<table border=\"1\" class=\"dataframe\">\n",
       "  <thead>\n",
       "    <tr style=\"text-align: right;\">\n",
       "      <th></th>\n",
       "      <th>CUSTOMER_ID</th>\n",
       "      <th>TERMINAL_ID</th>\n",
       "      <th>TX_AMOUNT</th>\n",
       "      <th>TX_FRAUD</th>\n",
       "    </tr>\n",
       "  </thead>\n",
       "  <tbody>\n",
       "    <tr>\n",
       "      <th>count</th>\n",
       "      <td>291231.000000</td>\n",
       "      <td>291231.000000</td>\n",
       "      <td>291231.000000</td>\n",
       "      <td>291231.000000</td>\n",
       "    </tr>\n",
       "    <tr>\n",
       "      <th>mean</th>\n",
       "      <td>496.256202</td>\n",
       "      <td>993.718526</td>\n",
       "      <td>53.182274</td>\n",
       "      <td>0.022601</td>\n",
       "    </tr>\n",
       "    <tr>\n",
       "      <th>std</th>\n",
       "      <td>285.274966</td>\n",
       "      <td>575.267551</td>\n",
       "      <td>39.573329</td>\n",
       "      <td>0.148627</td>\n",
       "    </tr>\n",
       "    <tr>\n",
       "      <th>min</th>\n",
       "      <td>0.000000</td>\n",
       "      <td>0.000000</td>\n",
       "      <td>0.000000</td>\n",
       "      <td>0.000000</td>\n",
       "    </tr>\n",
       "    <tr>\n",
       "      <th>25%</th>\n",
       "      <td>249.000000</td>\n",
       "      <td>496.000000</td>\n",
       "      <td>21.130000</td>\n",
       "      <td>0.000000</td>\n",
       "    </tr>\n",
       "    <tr>\n",
       "      <th>50%</th>\n",
       "      <td>498.000000</td>\n",
       "      <td>1000.000000</td>\n",
       "      <td>44.770000</td>\n",
       "      <td>0.000000</td>\n",
       "    </tr>\n",
       "    <tr>\n",
       "      <th>75%</th>\n",
       "      <td>741.000000</td>\n",
       "      <td>1483.000000</td>\n",
       "      <td>76.850000</td>\n",
       "      <td>0.000000</td>\n",
       "    </tr>\n",
       "    <tr>\n",
       "      <th>max</th>\n",
       "      <td>999.000000</td>\n",
       "      <td>1999.000000</td>\n",
       "      <td>291.150000</td>\n",
       "      <td>1.000000</td>\n",
       "    </tr>\n",
       "  </tbody>\n",
       "</table>\n",
       "</div>"
      ],
      "text/plain": [
       "         CUSTOMER_ID    TERMINAL_ID      TX_AMOUNT       TX_FRAUD\n",
       "count  291231.000000  291231.000000  291231.000000  291231.000000\n",
       "mean      496.256202     993.718526      53.182274       0.022601\n",
       "std       285.274966     575.267551      39.573329       0.148627\n",
       "min         0.000000       0.000000       0.000000       0.000000\n",
       "25%       249.000000     496.000000      21.130000       0.000000\n",
       "50%       498.000000    1000.000000      44.770000       0.000000\n",
       "75%       741.000000    1483.000000      76.850000       0.000000\n",
       "max       999.000000    1999.000000     291.150000       1.000000"
      ]
     },
     "execution_count": 18,
     "metadata": {},
     "output_type": "execute_result"
    }
   ],
   "source": [
    "df.describe()"
   ]
  },
  {
   "cell_type": "code",
   "execution_count": 19,
   "id": "50d8abf8",
   "metadata": {},
   "outputs": [
    {
     "data": {
      "text/plain": [
       "TX_DATETIME    0\n",
       "CUSTOMER_ID    0\n",
       "TERMINAL_ID    0\n",
       "TX_AMOUNT      0\n",
       "TX_FRAUD       0\n",
       "dtype: int64"
      ]
     },
     "execution_count": 19,
     "metadata": {},
     "output_type": "execute_result"
    }
   ],
   "source": [
    "df.isnull().sum()"
   ]
  },
  {
   "cell_type": "code",
   "execution_count": 21,
   "id": "d253b200",
   "metadata": {},
   "outputs": [
    {
     "data": {
      "text/plain": [
       "0"
      ]
     },
     "execution_count": 21,
     "metadata": {},
     "output_type": "execute_result"
    }
   ],
   "source": [
    "df.duplicated().sum()"
   ]
  },
  {
   "cell_type": "code",
   "execution_count": 22,
   "id": "2e5a2ebd",
   "metadata": {},
   "outputs": [
    {
     "data": {
      "text/html": [
       "<div>\n",
       "<style scoped>\n",
       "    .dataframe tbody tr th:only-of-type {\n",
       "        vertical-align: middle;\n",
       "    }\n",
       "\n",
       "    .dataframe tbody tr th {\n",
       "        vertical-align: top;\n",
       "    }\n",
       "\n",
       "    .dataframe thead th {\n",
       "        text-align: right;\n",
       "    }\n",
       "</style>\n",
       "<table border=\"1\" class=\"dataframe\">\n",
       "  <thead>\n",
       "    <tr style=\"text-align: right;\">\n",
       "      <th></th>\n",
       "      <th>CUSTOMER_ID</th>\n",
       "      <th>TERMINAL_ID</th>\n",
       "      <th>TX_AMOUNT</th>\n",
       "      <th>TX_FRAUD</th>\n",
       "    </tr>\n",
       "  </thead>\n",
       "  <tbody>\n",
       "    <tr>\n",
       "      <th>CUSTOMER_ID</th>\n",
       "      <td>1.000000</td>\n",
       "      <td>0.000823</td>\n",
       "      <td>0.004186</td>\n",
       "      <td>0.001702</td>\n",
       "    </tr>\n",
       "    <tr>\n",
       "      <th>TERMINAL_ID</th>\n",
       "      <td>0.000823</td>\n",
       "      <td>1.000000</td>\n",
       "      <td>-0.003315</td>\n",
       "      <td>0.010631</td>\n",
       "    </tr>\n",
       "    <tr>\n",
       "      <th>TX_AMOUNT</th>\n",
       "      <td>0.004186</td>\n",
       "      <td>-0.003315</td>\n",
       "      <td>1.000000</td>\n",
       "      <td>0.015275</td>\n",
       "    </tr>\n",
       "    <tr>\n",
       "      <th>TX_FRAUD</th>\n",
       "      <td>0.001702</td>\n",
       "      <td>0.010631</td>\n",
       "      <td>0.015275</td>\n",
       "      <td>1.000000</td>\n",
       "    </tr>\n",
       "  </tbody>\n",
       "</table>\n",
       "</div>"
      ],
      "text/plain": [
       "             CUSTOMER_ID  TERMINAL_ID  TX_AMOUNT  TX_FRAUD\n",
       "CUSTOMER_ID     1.000000     0.000823   0.004186  0.001702\n",
       "TERMINAL_ID     0.000823     1.000000  -0.003315  0.010631\n",
       "TX_AMOUNT       0.004186    -0.003315   1.000000  0.015275\n",
       "TX_FRAUD        0.001702     0.010631   0.015275  1.000000"
      ]
     },
     "execution_count": 22,
     "metadata": {},
     "output_type": "execute_result"
    }
   ],
   "source": [
    "df.corr()"
   ]
  },
  {
   "cell_type": "markdown",
   "id": "1ada32a0",
   "metadata": {},
   "source": [
    "### Basic inference"
   ]
  },
  {
   "cell_type": "markdown",
   "id": "77426eda",
   "metadata": {},
   "source": [
    "- There are 291231 rows and 5 columns. That means Total number of transactions is 291231 held.\n",
    "- The columns are 'TX_DATETIME', 'CUSTOMER_ID', 'TERMINAL_ID', 'TX_AMOUNT', 'TX_FRAUD'.\n",
    "- The dataset contains 3 int64, 1 float64 and 1 object datatype.\n",
    "- There is no missing values and duplicate values.\n",
    "- There are outliers in the TX_AMOUNT.\n",
    "- The dataset is imbalanced."
   ]
  },
  {
   "cell_type": "markdown",
   "id": "779f6e2c",
   "metadata": {},
   "source": [
    "### Univariate Analysis"
   ]
  },
  {
   "cell_type": "code",
   "execution_count": 25,
   "id": "7c4997cf",
   "metadata": {},
   "outputs": [
    {
     "data": {
      "text/plain": [
       "<AxesSubplot: xlabel='TX_FRAUD', ylabel='count'>"
      ]
     },
     "execution_count": 25,
     "metadata": {},
     "output_type": "execute_result"
    },
    {
     "data": {
      "image/png": "[encoded data removed]",
      "text/plain": [
       "<Figure size 640x480 with 1 Axes>"
      ]
     },
     "metadata": {},
     "output_type": "display_data"
    }
   ],
   "source": [
    "# Distribution of TX_AMOUNT\n",
    "sns.countplot(x=df.TX_FRAUD)"
   ]
  },
  {
   "cell_type": "code",
   "execution_count": 26,
   "id": "de914ae4",
   "metadata": {},
   "outputs": [
    {
     "data": {
      "text/plain": [
       "0    284649\n",
       "1      6582\n",
       "Name: TX_FRAUD, dtype: int64"
      ]
     },
     "execution_count": 26,
     "metadata": {},
     "output_type": "execute_result"
    }
   ],
   "source": [
    "df.TX_FRAUD.value_counts()"
   ]
  },
  {
   "cell_type": "markdown",
   "id": "00163fdd",
   "metadata": {},
   "source": [
    "#### Insight\n",
    "- 284649 transactions are legitimate \n",
    "- 6582 transactions are fraud \n",
    "- The class is imbalanced"
   ]
  },
  {
   "cell_type": "code",
   "execution_count": 27,
   "id": "2e65405a",
   "metadata": {},
   "outputs": [
    {
     "data": {
      "text/plain": [
       "<AxesSubplot: ylabel='Density'>"
      ]
     },
     "execution_count": 27,
     "metadata": {},
     "output_type": "execute_result"
    },
    {
     "data": {
      "image/png": "[encoded data removed]",
      "text/plain": [
       "<Figure size 640x480 with 1 Axes>"
      ]
     },
     "metadata": {},
     "output_type": "display_data"
    }
   ],
   "source": [
    "# Distribution of TX_AMOUNT\n",
    "\n",
    "sns.distplot(x=df.TX_AMOUNT)"
   ]
  },
  {
   "cell_type": "code",
   "execution_count": null,
   "id": "90df7d25",
   "metadata": {},
   "outputs": [],
   "source": []
  }
 ],
 "metadata": {
  "kernelspec": {
   "display_name": "bobbykernal",
   "language": "python",
   "name": "bobbykernal"
  },
  "language_info": {
   "codemirror_mode": {
    "name": "ipython",
    "version": 3
   },
   "file_extension": ".py",
   "mimetype": "text/x-python",
   "name": "python",
   "nbconvert_exporter": "python",
   "pygments_lexer": "ipython3",
   "version": "3.10.6"
  }
 },
 "nbformat": 4,
 "nbformat_minor": 5
}
