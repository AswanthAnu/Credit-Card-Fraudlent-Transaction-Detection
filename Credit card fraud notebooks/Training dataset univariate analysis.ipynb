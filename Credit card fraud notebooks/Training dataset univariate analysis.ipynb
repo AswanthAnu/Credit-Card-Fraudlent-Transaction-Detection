{
 "cells": [
  {
   "cell_type": "code",
   "execution_count": 1,
   "id": "b92de602",
   "metadata": {},
   "outputs": [],
   "source": [
    "import pandas as pd\n",
    "import numpy as np\n",
    "import seaborn as sns\n",
    "import warnings\n",
    "\n",
    "warnings.filterwarnings('ignore')"
   ]
  },
  {
   "cell_type": "code",
   "execution_count": 2,
   "id": "c89dceda",
   "metadata": {},
   "outputs": [],
   "source": [
    "url = 'C:/Users/aswan/Data analysis/Fintech project/Credit card fraud datasets/train.csv'"
   ]
  },
  {
   "cell_type": "code",
   "execution_count": 3,
   "id": "8e80989e",
   "metadata": {},
   "outputs": [],
   "source": [
    "df = pd.read_csv(url, index_col='TRANSACTION_ID')"
   ]
  },
  {
   "cell_type": "code",
   "execution_count": 4,
   "id": "e437fc71",
   "metadata": {},
   "outputs": [
    {
     "data": {
      "text/html": [
       "<div>\n",
       "<style scoped>\n",
       "    .dataframe tbody tr th:only-of-type {\n",
       "        vertical-align: middle;\n",
       "    }\n",
       "\n",
       "    .dataframe tbody tr th {\n",
       "        vertical-align: top;\n",
       "    }\n",
       "\n",
       "    .dataframe thead th {\n",
       "        text-align: right;\n",
       "    }\n",
       "</style>\n",
       "<table border=\"1\" class=\"dataframe\">\n",
       "  <thead>\n",
       "    <tr style=\"text-align: right;\">\n",
       "      <th></th>\n",
       "      <th>TX_DATETIME</th>\n",
       "      <th>CUSTOMER_ID</th>\n",
       "      <th>TERMINAL_ID</th>\n",
       "      <th>TX_AMOUNT</th>\n",
       "      <th>TX_FRAUD</th>\n",
       "    </tr>\n",
       "    <tr>\n",
       "      <th>TRANSACTION_ID</th>\n",
       "      <th></th>\n",
       "      <th></th>\n",
       "      <th></th>\n",
       "      <th></th>\n",
       "      <th></th>\n",
       "    </tr>\n",
       "  </thead>\n",
       "  <tbody>\n",
       "    <tr>\n",
       "      <th>267546</th>\n",
       "      <td>2021-11-17 17:24:55</td>\n",
       "      <td>207</td>\n",
       "      <td>1208</td>\n",
       "      <td>126.21</td>\n",
       "      <td>0</td>\n",
       "    </tr>\n",
       "    <tr>\n",
       "      <th>75009</th>\n",
       "      <td>2021-08-09 08:22:06</td>\n",
       "      <td>194</td>\n",
       "      <td>937</td>\n",
       "      <td>133.72</td>\n",
       "      <td>0</td>\n",
       "    </tr>\n",
       "    <tr>\n",
       "      <th>200049</th>\n",
       "      <td>2021-10-13 12:05:56</td>\n",
       "      <td>842</td>\n",
       "      <td>795</td>\n",
       "      <td>4.92</td>\n",
       "      <td>0</td>\n",
       "    </tr>\n",
       "    <tr>\n",
       "      <th>237951</th>\n",
       "      <td>2021-11-02 10:10:16</td>\n",
       "      <td>944</td>\n",
       "      <td>1407</td>\n",
       "      <td>99.10</td>\n",
       "      <td>0</td>\n",
       "    </tr>\n",
       "    <tr>\n",
       "      <th>317402</th>\n",
       "      <td>2021-12-13 15:11:42</td>\n",
       "      <td>836</td>\n",
       "      <td>749</td>\n",
       "      <td>160.98</td>\n",
       "      <td>0</td>\n",
       "    </tr>\n",
       "  </tbody>\n",
       "</table>\n",
       "</div>"
      ],
      "text/plain": [
       "                        TX_DATETIME  CUSTOMER_ID  TERMINAL_ID  TX_AMOUNT  \\\n",
       "TRANSACTION_ID                                                             \n",
       "267546          2021-11-17 17:24:55          207         1208     126.21   \n",
       "75009           2021-08-09 08:22:06          194          937     133.72   \n",
       "200049          2021-10-13 12:05:56          842          795       4.92   \n",
       "237951          2021-11-02 10:10:16          944         1407      99.10   \n",
       "317402          2021-12-13 15:11:42          836          749     160.98   \n",
       "\n",
       "                TX_FRAUD  \n",
       "TRANSACTION_ID            \n",
       "267546                 0  \n",
       "75009                  0  \n",
       "200049                 0  \n",
       "237951                 0  \n",
       "317402                 0  "
      ]
     },
     "execution_count": 4,
     "metadata": {},
     "output_type": "execute_result"
    }
   ],
   "source": [
    "df.sample(5)"
   ]
  },
  {
   "cell_type": "code",
   "execution_count": 5,
   "id": "778e629a",
   "metadata": {},
   "outputs": [
    {
     "data": {
      "text/plain": [
       "(291231, 5)"
      ]
     },
     "execution_count": 5,
     "metadata": {},
     "output_type": "execute_result"
    }
   ],
   "source": [
    "df.shape"
   ]
  },
  {
   "cell_type": "code",
   "execution_count": 6,
   "id": "738400aa",
   "metadata": {},
   "outputs": [
    {
     "name": "stdout",
     "output_type": "stream",
     "text": [
      "<class 'pandas.core.frame.DataFrame'>\n",
      "Int64Index: 291231 entries, 59383 to 350613\n",
      "Data columns (total 5 columns):\n",
      " #   Column       Non-Null Count   Dtype  \n",
      "---  ------       --------------   -----  \n",
      " 0   TX_DATETIME  291231 non-null  object \n",
      " 1   CUSTOMER_ID  291231 non-null  int64  \n",
      " 2   TERMINAL_ID  291231 non-null  int64  \n",
      " 3   TX_AMOUNT    291231 non-null  float64\n",
      " 4   TX_FRAUD     291231 non-null  int64  \n",
      "dtypes: float64(1), int64(3), object(1)\n",
      "memory usage: 13.3+ MB\n"
     ]
    }
   ],
   "source": [
    "df.info()"
   ]
  },
  {
   "cell_type": "code",
   "execution_count": 7,
   "id": "02cfc0ca",
   "metadata": {},
   "outputs": [
    {
     "data": {
      "text/html": [
       "<div>\n",
       "<style scoped>\n",
       "    .dataframe tbody tr th:only-of-type {\n",
       "        vertical-align: middle;\n",
       "    }\n",
       "\n",
       "    .dataframe tbody tr th {\n",
       "        vertical-align: top;\n",
       "    }\n",
       "\n",
       "    .dataframe thead th {\n",
       "        text-align: right;\n",
       "    }\n",
       "</style>\n",
       "<table border=\"1\" class=\"dataframe\">\n",
       "  <thead>\n",
       "    <tr style=\"text-align: right;\">\n",
       "      <th></th>\n",
       "      <th>CUSTOMER_ID</th>\n",
       "      <th>TERMINAL_ID</th>\n",
       "      <th>TX_AMOUNT</th>\n",
       "      <th>TX_FRAUD</th>\n",
       "    </tr>\n",
       "  </thead>\n",
       "  <tbody>\n",
       "    <tr>\n",
       "      <th>count</th>\n",
       "      <td>291231.000000</td>\n",
       "      <td>291231.000000</td>\n",
       "      <td>291231.000000</td>\n",
       "      <td>291231.000000</td>\n",
       "    </tr>\n",
       "    <tr>\n",
       "      <th>mean</th>\n",
       "      <td>496.256202</td>\n",
       "      <td>993.718526</td>\n",
       "      <td>53.182274</td>\n",
       "      <td>0.022601</td>\n",
       "    </tr>\n",
       "    <tr>\n",
       "      <th>std</th>\n",
       "      <td>285.274966</td>\n",
       "      <td>575.267551</td>\n",
       "      <td>39.573329</td>\n",
       "      <td>0.148627</td>\n",
       "    </tr>\n",
       "    <tr>\n",
       "      <th>min</th>\n",
       "      <td>0.000000</td>\n",
       "      <td>0.000000</td>\n",
       "      <td>0.000000</td>\n",
       "      <td>0.000000</td>\n",
       "    </tr>\n",
       "    <tr>\n",
       "      <th>25%</th>\n",
       "      <td>249.000000</td>\n",
       "      <td>496.000000</td>\n",
       "      <td>21.130000</td>\n",
       "      <td>0.000000</td>\n",
       "    </tr>\n",
       "    <tr>\n",
       "      <th>50%</th>\n",
       "      <td>498.000000</td>\n",
       "      <td>1000.000000</td>\n",
       "      <td>44.770000</td>\n",
       "      <td>0.000000</td>\n",
       "    </tr>\n",
       "    <tr>\n",
       "      <th>75%</th>\n",
       "      <td>741.000000</td>\n",
       "      <td>1483.000000</td>\n",
       "      <td>76.850000</td>\n",
       "      <td>0.000000</td>\n",
       "    </tr>\n",
       "    <tr>\n",
       "      <th>max</th>\n",
       "      <td>999.000000</td>\n",
       "      <td>1999.000000</td>\n",
       "      <td>291.150000</td>\n",
       "      <td>1.000000</td>\n",
       "    </tr>\n",
       "  </tbody>\n",
       "</table>\n",
       "</div>"
      ],
      "text/plain": [
       "         CUSTOMER_ID    TERMINAL_ID      TX_AMOUNT       TX_FRAUD\n",
       "count  291231.000000  291231.000000  291231.000000  291231.000000\n",
       "mean      496.256202     993.718526      53.182274       0.022601\n",
       "std       285.274966     575.267551      39.573329       0.148627\n",
       "min         0.000000       0.000000       0.000000       0.000000\n",
       "25%       249.000000     496.000000      21.130000       0.000000\n",
       "50%       498.000000    1000.000000      44.770000       0.000000\n",
       "75%       741.000000    1483.000000      76.850000       0.000000\n",
       "max       999.000000    1999.000000     291.150000       1.000000"
      ]
     },
     "execution_count": 7,
     "metadata": {},
     "output_type": "execute_result"
    }
   ],
   "source": [
    "df.describe()"
   ]
  },
  {
   "cell_type": "code",
   "execution_count": 8,
   "id": "50d8abf8",
   "metadata": {},
   "outputs": [
    {
     "data": {
      "text/plain": [
       "TX_DATETIME    0\n",
       "CUSTOMER_ID    0\n",
       "TERMINAL_ID    0\n",
       "TX_AMOUNT      0\n",
       "TX_FRAUD       0\n",
       "dtype: int64"
      ]
     },
     "execution_count": 8,
     "metadata": {},
     "output_type": "execute_result"
    }
   ],
   "source": [
    "df.isnull().sum()"
   ]
  },
  {
   "cell_type": "code",
   "execution_count": 9,
   "id": "d253b200",
   "metadata": {},
   "outputs": [
    {
     "data": {
      "text/plain": [
       "0"
      ]
     },
     "execution_count": 9,
     "metadata": {},
     "output_type": "execute_result"
    }
   ],
   "source": [
    "df.duplicated().sum()"
   ]
  },
  {
   "cell_type": "code",
   "execution_count": 10,
   "id": "2e5a2ebd",
   "metadata": {},
   "outputs": [
    {
     "data": {
      "text/html": [
       "<div>\n",
       "<style scoped>\n",
       "    .dataframe tbody tr th:only-of-type {\n",
       "        vertical-align: middle;\n",
       "    }\n",
       "\n",
       "    .dataframe tbody tr th {\n",
       "        vertical-align: top;\n",
       "    }\n",
       "\n",
       "    .dataframe thead th {\n",
       "        text-align: right;\n",
       "    }\n",
       "</style>\n",
       "<table border=\"1\" class=\"dataframe\">\n",
       "  <thead>\n",
       "    <tr style=\"text-align: right;\">\n",
       "      <th></th>\n",
       "      <th>CUSTOMER_ID</th>\n",
       "      <th>TERMINAL_ID</th>\n",
       "      <th>TX_AMOUNT</th>\n",
       "      <th>TX_FRAUD</th>\n",
       "    </tr>\n",
       "  </thead>\n",
       "  <tbody>\n",
       "    <tr>\n",
       "      <th>CUSTOMER_ID</th>\n",
       "      <td>1.000000</td>\n",
       "      <td>0.000823</td>\n",
       "      <td>0.004186</td>\n",
       "      <td>0.001702</td>\n",
       "    </tr>\n",
       "    <tr>\n",
       "      <th>TERMINAL_ID</th>\n",
       "      <td>0.000823</td>\n",
       "      <td>1.000000</td>\n",
       "      <td>-0.003315</td>\n",
       "      <td>0.010631</td>\n",
       "    </tr>\n",
       "    <tr>\n",
       "      <th>TX_AMOUNT</th>\n",
       "      <td>0.004186</td>\n",
       "      <td>-0.003315</td>\n",
       "      <td>1.000000</td>\n",
       "      <td>0.015275</td>\n",
       "    </tr>\n",
       "    <tr>\n",
       "      <th>TX_FRAUD</th>\n",
       "      <td>0.001702</td>\n",
       "      <td>0.010631</td>\n",
       "      <td>0.015275</td>\n",
       "      <td>1.000000</td>\n",
       "    </tr>\n",
       "  </tbody>\n",
       "</table>\n",
       "</div>"
      ],
      "text/plain": [
       "             CUSTOMER_ID  TERMINAL_ID  TX_AMOUNT  TX_FRAUD\n",
       "CUSTOMER_ID     1.000000     0.000823   0.004186  0.001702\n",
       "TERMINAL_ID     0.000823     1.000000  -0.003315  0.010631\n",
       "TX_AMOUNT       0.004186    -0.003315   1.000000  0.015275\n",
       "TX_FRAUD        0.001702     0.010631   0.015275  1.000000"
      ]
     },
     "execution_count": 10,
     "metadata": {},
     "output_type": "execute_result"
    }
   ],
   "source": [
    "df.corr()"
   ]
  },
  {
   "cell_type": "markdown",
   "id": "1ada32a0",
   "metadata": {},
   "source": [
    "### Initial Insight"
   ]
  },
  {
   "cell_type": "markdown",
   "id": "77426eda",
   "metadata": {},
   "source": [
    "- There are 291231 rows and 5 columns. That means Total number of transactions is 291231 held.\n",
    "- The columns are 'TX_DATETIME', 'CUSTOMER_ID', 'TERMINAL_ID', 'TX_AMOUNT', 'TX_FRAUD'.\n",
    "- The dataset contains 3 int64, 1 float64 and 1 object datatype.\n",
    "- There is no missing values and duplicate values.\n",
    "- There are outliers in the TX_AMOUNT.\n",
    "- The dataset is imbalanced."
   ]
  },
  {
   "cell_type": "markdown",
   "id": "ff4e25e9",
   "metadata": {},
   "source": [
    "### Univariate Analysis"
   ]
  },
  {
   "cell_type": "code",
   "execution_count": 11,
   "id": "054669b0",
   "metadata": {},
   "outputs": [
    {
     "data": {
      "text/plain": [
       "<AxesSubplot: xlabel='TX_FRAUD', ylabel='count'>"
      ]
     },
     "execution_count": 11,
     "metadata": {},
     "output_type": "execute_result"
    },
    {
     "data": {
      "image/png": "[encoded data removed]",
      "text/plain": [
       "<Figure size 640x480 with 1 Axes>"
      ]
     },
     "metadata": {},
     "output_type": "display_data"
    }
   ],
   "source": [
    "# Distribution of TX_AMOUNT\n",
    "sns.countplot(x=df.TX_FRAUD)"
   ]
  },
  {
   "cell_type": "code",
   "execution_count": 12,
   "id": "02b282eb",
   "metadata": {},
   "outputs": [
    {
     "data": {
      "text/plain": [
       "0    284649\n",
       "1      6582\n",
       "Name: TX_FRAUD, dtype: int64"
      ]
     },
     "execution_count": 12,
     "metadata": {},
     "output_type": "execute_result"
    }
   ],
   "source": [
    "df.TX_FRAUD.value_counts()"
   ]
  },
  {
   "cell_type": "markdown",
   "id": "7153f838",
   "metadata": {},
   "source": [
    "#### Insight\n",
    "- 284649 transactions are legitimate \n",
    "- 6582 transactions are fraud \n",
    "- The class is imbalanced"
   ]
  },
  {
   "cell_type": "code",
   "execution_count": 13,
   "id": "1e45f8d7",
   "metadata": {},
   "outputs": [
    {
     "data": {
      "text/plain": [
       "<AxesSubplot: ylabel='Density'>"
      ]
     },
     "execution_count": 13,
     "metadata": {},
     "output_type": "execute_result"
    },
    {
     "data": {
      "image/png": "[encoded data removed]",
      "text/plain": [
       "<Figure size 640x480 with 1 Axes>"
      ]
     },
     "metadata": {},
     "output_type": "display_data"
    }
   ],
   "source": [
    "# Distribution of TX_AMOUNT\n",
    "\n",
    "sns.distplot(x=df.TX_AMOUNT, kde=True)"
   ]
  },
  {
   "cell_type": "code",
   "execution_count": 14,
   "id": "c81b16f2",
   "metadata": {},
   "outputs": [
    {
     "data": {
      "text/plain": [
       "<AxesSubplot: xlabel='TX_AMOUNT'>"
      ]
     },
     "execution_count": 14,
     "metadata": {},
     "output_type": "execute_result"
    },
    {
     "data": {
      "image/png": "[encoded data removed]",
      "text/plain": [
       "<Figure size 640x480 with 1 Axes>"
      ]
     },
     "metadata": {},
     "output_type": "display_data"
    }
   ],
   "source": [
    "sns.boxplot(x=df.TX_AMOUNT)"
   ]
  },
  {
   "cell_type": "code",
   "execution_count": 15,
   "id": "d42ffced",
   "metadata": {},
   "outputs": [
    {
     "data": {
      "text/plain": [
       "0    9\n",
       "Name: TX_FRAUD, dtype: int64"
      ]
     },
     "execution_count": 15,
     "metadata": {},
     "output_type": "execute_result"
    }
   ],
   "source": [
    "df[df.TX_AMOUNT == 0.0].TX_FRAUD.value_counts()"
   ]
  },
  {
   "cell_type": "markdown",
   "id": "00c1e984",
   "metadata": {},
   "source": [
    "#### Insight\n",
    "\n",
    "- The distribution of 'TX_AMOUNT' is right skewed. Better apply log transformation.\n",
    "- There are outliers present in the higher transaction amount. But need to check whether those outliers are fraudulent or not.\n",
    "- In 9 transactions the transaction amount is 0 and they are valid transactions. Let's considered that as null values."
   ]
  },
  {
   "cell_type": "code",
   "execution_count": 17,
   "id": "fc6e186d",
   "metadata": {},
   "outputs": [],
   "source": [
    "# converting 'TX_DATETIME' dtype from object\n",
    "\n",
    "df.TX_DATETIME = pd.to_datetime(df.TX_DATETIME)"
   ]
  },
  {
   "cell_type": "code",
   "execution_count": 19,
   "id": "a4170d0c",
   "metadata": {},
   "outputs": [],
   "source": [
    "df['hour'] = df['TX_DATETIME'].dt.hour\n",
    "df['day'] = df['TX_DATETIME'].dt.day\n",
    "df['month'] = df['TX_DATETIME'].dt.month\n",
    "df['year'] = df['TX_DATETIME'].dt.year"
   ]
  },
  {
   "cell_type": "code",
   "execution_count": 20,
   "id": "61e0b83d",
   "metadata": {},
   "outputs": [
    {
     "data": {
      "text/html": [
       "<div>\n",
       "<style scoped>\n",
       "    .dataframe tbody tr th:only-of-type {\n",
       "        vertical-align: middle;\n",
       "    }\n",
       "\n",
       "    .dataframe tbody tr th {\n",
       "        vertical-align: top;\n",
       "    }\n",
       "\n",
       "    .dataframe thead th {\n",
       "        text-align: right;\n",
       "    }\n",
       "</style>\n",
       "<table border=\"1\" class=\"dataframe\">\n",
       "  <thead>\n",
       "    <tr style=\"text-align: right;\">\n",
       "      <th></th>\n",
       "      <th>TX_DATETIME</th>\n",
       "      <th>CUSTOMER_ID</th>\n",
       "      <th>TERMINAL_ID</th>\n",
       "      <th>TX_AMOUNT</th>\n",
       "      <th>TX_FRAUD</th>\n",
       "      <th>hour</th>\n",
       "      <th>day</th>\n",
       "      <th>month</th>\n",
       "      <th>year</th>\n",
       "    </tr>\n",
       "    <tr>\n",
       "      <th>TRANSACTION_ID</th>\n",
       "      <th></th>\n",
       "      <th></th>\n",
       "      <th></th>\n",
       "      <th></th>\n",
       "      <th></th>\n",
       "      <th></th>\n",
       "      <th></th>\n",
       "      <th></th>\n",
       "      <th></th>\n",
       "    </tr>\n",
       "  </thead>\n",
       "  <tbody>\n",
       "    <tr>\n",
       "      <th>59383</th>\n",
       "      <td>2021-08-01 00:04:37</td>\n",
       "      <td>323</td>\n",
       "      <td>217</td>\n",
       "      <td>4.60</td>\n",
       "      <td>0</td>\n",
       "      <td>0</td>\n",
       "      <td>1</td>\n",
       "      <td>8</td>\n",
       "      <td>2021</td>\n",
       "    </tr>\n",
       "    <tr>\n",
       "      <th>59384</th>\n",
       "      <td>2021-08-01 00:12:10</td>\n",
       "      <td>6</td>\n",
       "      <td>429</td>\n",
       "      <td>8.61</td>\n",
       "      <td>0</td>\n",
       "      <td>0</td>\n",
       "      <td>1</td>\n",
       "      <td>8</td>\n",
       "      <td>2021</td>\n",
       "    </tr>\n",
       "    <tr>\n",
       "      <th>59385</th>\n",
       "      <td>2021-08-01 00:12:34</td>\n",
       "      <td>714</td>\n",
       "      <td>1011</td>\n",
       "      <td>64.00</td>\n",
       "      <td>0</td>\n",
       "      <td>0</td>\n",
       "      <td>1</td>\n",
       "      <td>8</td>\n",
       "      <td>2021</td>\n",
       "    </tr>\n",
       "    <tr>\n",
       "      <th>59386</th>\n",
       "      <td>2021-08-01 00:15:40</td>\n",
       "      <td>266</td>\n",
       "      <td>1969</td>\n",
       "      <td>12.72</td>\n",
       "      <td>0</td>\n",
       "      <td>0</td>\n",
       "      <td>1</td>\n",
       "      <td>8</td>\n",
       "      <td>2021</td>\n",
       "    </tr>\n",
       "    <tr>\n",
       "      <th>59387</th>\n",
       "      <td>2021-08-01 00:16:01</td>\n",
       "      <td>890</td>\n",
       "      <td>1482</td>\n",
       "      <td>98.88</td>\n",
       "      <td>0</td>\n",
       "      <td>0</td>\n",
       "      <td>1</td>\n",
       "      <td>8</td>\n",
       "      <td>2021</td>\n",
       "    </tr>\n",
       "  </tbody>\n",
       "</table>\n",
       "</div>"
      ],
      "text/plain": [
       "                       TX_DATETIME  CUSTOMER_ID  TERMINAL_ID  TX_AMOUNT  \\\n",
       "TRANSACTION_ID                                                            \n",
       "59383          2021-08-01 00:04:37          323          217       4.60   \n",
       "59384          2021-08-01 00:12:10            6          429       8.61   \n",
       "59385          2021-08-01 00:12:34          714         1011      64.00   \n",
       "59386          2021-08-01 00:15:40          266         1969      12.72   \n",
       "59387          2021-08-01 00:16:01          890         1482      98.88   \n",
       "\n",
       "                TX_FRAUD  hour  day  month  year  \n",
       "TRANSACTION_ID                                    \n",
       "59383                  0     0    1      8  2021  \n",
       "59384                  0     0    1      8  2021  \n",
       "59385                  0     0    1      8  2021  \n",
       "59386                  0     0    1      8  2021  \n",
       "59387                  0     0    1      8  2021  "
      ]
     },
     "execution_count": 20,
     "metadata": {},
     "output_type": "execute_result"
    }
   ],
   "source": [
    "df.head()"
   ]
  },
  {
   "cell_type": "code",
   "execution_count": 21,
   "id": "ac8aeaec",
   "metadata": {},
   "outputs": [
    {
     "data": {
      "text/plain": [
       "2021    291231\n",
       "Name: year, dtype: int64"
      ]
     },
     "execution_count": 21,
     "metadata": {},
     "output_type": "execute_result"
    }
   ],
   "source": [
    "df.year.value_counts()"
   ]
  },
  {
   "cell_type": "code",
   "execution_count": 22,
   "id": "b41951da",
   "metadata": {},
   "outputs": [
    {
     "data": {
      "text/plain": [
       "8     59193\n",
       "10    59166\n",
       "11    57800\n",
       "9     57582\n",
       "12    57490\n",
       "Name: month, dtype: int64"
      ]
     },
     "execution_count": 22,
     "metadata": {},
     "output_type": "execute_result"
    }
   ],
   "source": [
    "df.month.value_counts()"
   ]
  },
  {
   "cell_type": "code",
   "execution_count": 24,
   "id": "57cf20fc",
   "metadata": {},
   "outputs": [
    {
     "data": {
      "text/plain": [
       "11    21454\n",
       "12    21188\n",
       "10    21007\n",
       "13    20833\n",
       "14    19530\n",
       "9     19416\n",
       "8     17701\n",
       "15    17449\n",
       "7     15690\n",
       "16    15316\n",
       "17    13350\n",
       "6     13303\n",
       "18    10854\n",
       "5     10808\n",
       "19     8822\n",
       "4      8721\n",
       "20     6808\n",
       "3      6733\n",
       "21     5071\n",
       "2      4939\n",
       "22     3657\n",
       "1      3575\n",
       "23     2540\n",
       "0      2466\n",
       "Name: hour, dtype: int64"
      ]
     },
     "execution_count": 24,
     "metadata": {},
     "output_type": "execute_result"
    }
   ],
   "source": [
    "df.hour.value_counts()"
   ]
  },
  {
   "cell_type": "code",
   "execution_count": 25,
   "id": "7c7b0d21",
   "metadata": {},
   "outputs": [
    {
     "data": {
      "text/plain": [
       "<AxesSubplot: xlabel='month', ylabel='Count'>"
      ]
     },
     "execution_count": 25,
     "metadata": {},
     "output_type": "execute_result"
    },
    {
     "data": {
      "image/png": "[encoded data removed]",
      "text/plain": [
       "<Figure size 640x480 with 1 Axes>"
      ]
     },
     "metadata": {},
     "output_type": "display_data"
    }
   ],
   "source": [
    "sns.histplot(x=df.month)"
   ]
  },
  {
   "cell_type": "code",
   "execution_count": null,
   "id": "a3acdf18",
   "metadata": {},
   "outputs": [],
   "source": []
  }
 ],
 "metadata": {
  "kernelspec": {
   "display_name": "bobbykernal",
   "language": "python",
   "name": "bobbykernal"
  },
  "language_info": {
   "codemirror_mode": {
    "name": "ipython",
    "version": 3
   },
   "file_extension": ".py",
   "mimetype": "text/x-python",
   "name": "python",
   "nbconvert_exporter": "python",
   "pygments_lexer": "ipython3",
   "version": "3.10.6"
  }
 },
 "nbformat": 4,
 "nbformat_minor": 5
}
